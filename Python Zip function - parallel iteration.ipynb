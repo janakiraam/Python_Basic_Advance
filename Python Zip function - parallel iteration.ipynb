{
 "cells": [
  {
   "cell_type": "code",
   "execution_count": 7,
   "id": "oriented-capitol",
   "metadata": {},
   "outputs": [],
   "source": [
    "lst1=[\"janaki\",\"raam\",\"vaidhyanathan\",\"gurumoorthi\"]\n",
    "lst2=['a','b','c']"
   ]
  },
  {
   "cell_type": "code",
   "execution_count": 16,
   "id": "close-majority",
   "metadata": {},
   "outputs": [],
   "source": [
    "output=zip(lst1,lst2)"
   ]
  },
  {
   "cell_type": "code",
   "execution_count": 17,
   "id": "modified-present",
   "metadata": {},
   "outputs": [
    {
     "data": {
      "text/plain": [
       "<zip at 0x26cda097a00>"
      ]
     },
     "execution_count": 17,
     "metadata": {},
     "output_type": "execute_result"
    }
   ],
   "source": [
    "output"
   ]
  },
  {
   "cell_type": "code",
   "execution_count": 10,
   "id": "corporate-theology",
   "metadata": {},
   "outputs": [
    {
     "data": {
      "text/plain": [
       "[('janaki', 'a'), ('raam', 'b'), ('vaidhyanathan', 'c')]"
      ]
     },
     "execution_count": 10,
     "metadata": {},
     "output_type": "execute_result"
    }
   ],
   "source": [
    "list(output) # creating tuple"
   ]
  },
  {
   "cell_type": "code",
   "execution_count": 14,
   "id": "creative-cliff",
   "metadata": {},
   "outputs": [
    {
     "data": {
      "text/plain": [
       "('janaki', 'a')"
      ]
     },
     "execution_count": 14,
     "metadata": {},
     "output_type": "execute_result"
    }
   ],
   "source": [
    "# Zip operator is an iterrator\n",
    "next(output) # run this line without executing the previous line"
   ]
  },
  {
   "cell_type": "code",
   "execution_count": 15,
   "id": "signal-characteristic",
   "metadata": {},
   "outputs": [
    {
     "name": "stdout",
     "output_type": "stream",
     "text": [
      "('raam', 'b')\n",
      "('vaidhyanathan', 'c')\n"
     ]
    }
   ],
   "source": [
    "for i in output:\n",
    "    print(i) # excuted after next command"
   ]
  },
  {
   "cell_type": "code",
   "execution_count": 18,
   "id": "unsigned-latex",
   "metadata": {},
   "outputs": [
    {
     "name": "stdout",
     "output_type": "stream",
     "text": [
      "('janaki', 'a')\n",
      "('raam', 'b')\n",
      "('vaidhyanathan', 'c')\n"
     ]
    }
   ],
   "source": [
    "for i in output:\n",
    "    print(i)"
   ]
  },
  {
   "cell_type": "code",
   "execution_count": 19,
   "id": "renewable-serum",
   "metadata": {},
   "outputs": [
    {
     "name": "stdout",
     "output_type": "stream",
     "text": [
      "janaki a\n",
      "raam b\n",
      "vaidhyanathan c\n"
     ]
    }
   ],
   "source": [
    "output1 = zip(lst1,lst2)\n",
    "for i,j in output1:\n",
    "    print(i,j)"
   ]
  },
  {
   "cell_type": "code",
   "execution_count": 21,
   "id": "sharp-mambo",
   "metadata": {},
   "outputs": [
    {
     "data": {
      "text/plain": [
       "[]"
      ]
     },
     "execution_count": 21,
     "metadata": {},
     "output_type": "execute_result"
    }
   ],
   "source": [
    "list()"
   ]
  },
  {
   "cell_type": "code",
   "execution_count": 22,
   "id": "acquired-mobility",
   "metadata": {},
   "outputs": [
    {
     "data": {
      "text/plain": [
       "[]"
      ]
     },
     "execution_count": 22,
     "metadata": {},
     "output_type": "execute_result"
    }
   ],
   "source": [
    "list(zip())"
   ]
  },
  {
   "cell_type": "code",
   "execution_count": 23,
   "id": "bottom-simulation",
   "metadata": {},
   "outputs": [],
   "source": [
    "dict1={'name':'Janaki','last_name':'Raam','age':29}\n",
    "dict2={'name':'Arvind','last_name':'Ravi','age':26}"
   ]
  },
  {
   "cell_type": "code",
   "execution_count": 24,
   "id": "fantastic-cutting",
   "metadata": {},
   "outputs": [
    {
     "data": {
      "text/plain": [
       "<zip at 0x26cda03ecc0>"
      ]
     },
     "execution_count": 24,
     "metadata": {},
     "output_type": "execute_result"
    }
   ],
   "source": [
    "dictionary=zip(dict1,dict2)\n",
    "dictionary"
   ]
  },
  {
   "cell_type": "code",
   "execution_count": 25,
   "id": "behind-monte",
   "metadata": {},
   "outputs": [
    {
     "name": "stdout",
     "output_type": "stream",
     "text": [
      "<zip object at 0x0000026CDA03ECC0>\n"
     ]
    }
   ],
   "source": [
    "print(dictionary)"
   ]
  },
  {
   "cell_type": "code",
   "execution_count": 26,
   "id": "outdoor-hungary",
   "metadata": {},
   "outputs": [
    {
     "data": {
      "text/plain": [
       "dict_items([('name', 'Janaki'), ('last_name', 'Raam'), ('age', 29)])"
      ]
     },
     "execution_count": 26,
     "metadata": {},
     "output_type": "execute_result"
    }
   ],
   "source": [
    "dict1.items()"
   ]
  },
  {
   "cell_type": "code",
   "execution_count": 27,
   "id": "intimate-trailer",
   "metadata": {},
   "outputs": [],
   "source": [
    "dictionary=zip(dict1.items(),dict2.items())\n"
   ]
  },
  {
   "cell_type": "code",
   "execution_count": 28,
   "id": "impressive-present",
   "metadata": {},
   "outputs": [
    {
     "name": "stdout",
     "output_type": "stream",
     "text": [
      "name Janaki\n",
      "name Arvind\n",
      "last_name Raam\n",
      "last_name Ravi\n",
      "age 29\n",
      "age 26\n"
     ]
    }
   ],
   "source": [
    "for (i,j),(i2,j2) in dictionary:\n",
    "    print(i,j)\n",
    "    print(i2,j2)"
   ]
  },
  {
   "cell_type": "code",
   "execution_count": 29,
   "id": "double-maple",
   "metadata": {},
   "outputs": [],
   "source": [
    "dictionary=zip(dict1,dict2)"
   ]
  },
  {
   "cell_type": "code",
   "execution_count": 31,
   "id": "pharmaceutical-bridges",
   "metadata": {},
   "outputs": [
    {
     "name": "stdout",
     "output_type": "stream",
     "text": [
      "last_name last_name\n",
      "age age\n"
     ]
    }
   ],
   "source": [
    "for i,j in dictionary:\n",
    "    print(i,j)"
   ]
  },
  {
   "cell_type": "code",
   "execution_count": null,
   "id": "ignored-husband",
   "metadata": {},
   "outputs": [],
   "source": []
  },
  {
   "cell_type": "code",
   "execution_count": null,
   "id": "partial-sight",
   "metadata": {},
   "outputs": [],
   "source": []
  },
  {
   "cell_type": "code",
   "execution_count": null,
   "id": "dedicated-solution",
   "metadata": {},
   "outputs": [],
   "source": []
  },
  {
   "cell_type": "code",
   "execution_count": null,
   "id": "familiar-hungarian",
   "metadata": {},
   "outputs": [],
   "source": []
  },
  {
   "cell_type": "code",
   "execution_count": null,
   "id": "found-singapore",
   "metadata": {},
   "outputs": [],
   "source": []
  }
 ],
 "metadata": {
  "kernelspec": {
   "display_name": "Python 3",
   "language": "python",
   "name": "python3"
  },
  "language_info": {
   "codemirror_mode": {
    "name": "ipython",
    "version": 3
   },
   "file_extension": ".py",
   "mimetype": "text/x-python",
   "name": "python",
   "nbconvert_exporter": "python",
   "pygments_lexer": "ipython3",
   "version": "3.8.5"
  }
 },
 "nbformat": 4,
 "nbformat_minor": 5
}
