{
 "cells": [
  {
   "cell_type": "code",
   "execution_count": 1,
   "metadata": {},
   "outputs": [],
   "source": [
    "class car():\n",
    "    def __init__(self, window,door,enginetype):\n",
    "        self.window=window\n",
    "        self.door=door\n",
    "        self.enginetype=enginetype\n",
    "    def drive(self):\n",
    "        print(\"The person drives this car\")"
   ]
  },
  {
   "cell_type": "code",
   "execution_count": 2,
   "metadata": {},
   "outputs": [],
   "source": [
    "c=car(4,5,\"Diesel\")"
   ]
  },
  {
   "cell_type": "code",
   "execution_count": 11,
   "metadata": {},
   "outputs": [
    {
     "name": "stdout",
     "output_type": "stream",
     "text": [
      "<__main__.car object at 0x000001EF715E3940>\n"
     ]
    }
   ],
   "source": [
    "print(c) # the below  message is because of magic method __str__ "
   ]
  },
  {
   "cell_type": "code",
   "execution_count": 5,
   "metadata": {},
   "outputs": [
    {
     "data": {
      "text/plain": [
       "['__class__',\n",
       " '__delattr__',\n",
       " '__dict__',\n",
       " '__dir__',\n",
       " '__doc__',\n",
       " '__eq__',\n",
       " '__format__',\n",
       " '__ge__',\n",
       " '__getattribute__',\n",
       " '__gt__',\n",
       " '__hash__',\n",
       " '__init__',\n",
       " '__init_subclass__',\n",
       " '__le__',\n",
       " '__lt__',\n",
       " '__module__',\n",
       " '__ne__',\n",
       " '__new__',\n",
       " '__reduce__',\n",
       " '__reduce_ex__',\n",
       " '__repr__',\n",
       " '__setattr__',\n",
       " '__sizeof__',\n",
       " '__str__',\n",
       " '__subclasshook__',\n",
       " '__weakref__',\n",
       " 'door',\n",
       " 'drive',\n",
       " 'enginetype',\n",
       " 'window']"
      ]
     },
     "execution_count": 5,
     "metadata": {},
     "output_type": "execute_result"
    }
   ],
   "source": [
    "dir(c) # all the __<method_name>__ is called as magic method in class"
   ]
  },
  {
   "cell_type": "code",
   "execution_count": 6,
   "metadata": {},
   "outputs": [],
   "source": [
    "# now overriding this magic method which is possible in python\n",
    "\n",
    "\n",
    "class car1():\n",
    "    def __init__(self, window,door,enginetype):\n",
    "        self.window=window\n",
    "        self.door=door\n",
    "        self.enginetype=enginetype\n",
    "    def __str__(self):\n",
    "        print(\"This is overriding of magic method\")\n",
    "    def drive(self):\n",
    "        print(\"The person drives this car\")"
   ]
  },
  {
   "cell_type": "code",
   "execution_count": 8,
   "metadata": {},
   "outputs": [],
   "source": [
    "c1=car1(4,5,\"Diesel\")"
   ]
  },
  {
   "cell_type": "code",
   "execution_count": 10,
   "metadata": {},
   "outputs": [
    {
     "name": "stdout",
     "output_type": "stream",
     "text": [
      "This is overriding of magic method\n"
     ]
    },
    {
     "ename": "TypeError",
     "evalue": "__str__ returned non-string (type NoneType)",
     "output_type": "error",
     "traceback": [
      "\u001b[1;31m---------------------------------------------------------------------------\u001b[0m",
      "\u001b[1;31mTypeError\u001b[0m                                 Traceback (most recent call last)",
      "\u001b[1;32m<ipython-input-10-aa87f5f66abb>\u001b[0m in \u001b[0;36m<module>\u001b[1;34m\u001b[0m\n\u001b[1;32m----> 1\u001b[1;33m \u001b[0mprint\u001b[0m\u001b[1;33m(\u001b[0m\u001b[0mc1\u001b[0m\u001b[1;33m)\u001b[0m\u001b[1;33m\u001b[0m\u001b[1;33m\u001b[0m\u001b[0m\n\u001b[0m",
      "\u001b[1;31mTypeError\u001b[0m: __str__ returned non-string (type NoneType)"
     ]
    }
   ],
   "source": [
    "print(c1) #the above class is printing and not returning, so the below error. Now below cell will solve this problem\n",
    "\n",
    "# magic function should always return things"
   ]
  },
  {
   "cell_type": "code",
   "execution_count": 12,
   "metadata": {},
   "outputs": [],
   "source": [
    "\n",
    "class car1():\n",
    "    def __init__(self, window,door,enginetype):\n",
    "        self.window=window\n",
    "        self.door=door\n",
    "        self.enginetype=enginetype\n",
    "    def __str__(self):\n",
    "        return \"This is overriding of magic method\"\n",
    "    def drive(self):\n",
    "        print(\"The person drives this car\")\n",
    "        \n",
    "c1=car1(4,5,\"Diesel\")"
   ]
  },
  {
   "cell_type": "code",
   "execution_count": 13,
   "metadata": {},
   "outputs": [
    {
     "name": "stdout",
     "output_type": "stream",
     "text": [
      "This is overriding of magic method\n"
     ]
    }
   ],
   "source": [
    "print(c1)"
   ]
  },
  {
   "cell_type": "code",
   "execution_count": 14,
   "metadata": {},
   "outputs": [
    {
     "data": {
      "text/plain": [
       "<function car1.__sizeof__()>"
      ]
     },
     "execution_count": 14,
     "metadata": {},
     "output_type": "execute_result"
    }
   ],
   "source": [
    "c1.__sizeof__"
   ]
  },
  {
   "cell_type": "code",
   "execution_count": 15,
   "metadata": {},
   "outputs": [
    {
     "data": {
      "text/plain": [
       "32"
      ]
     },
     "execution_count": 15,
     "metadata": {},
     "output_type": "execute_result"
    }
   ],
   "source": [
    "c1.__sizeof__()"
   ]
  },
  {
   "cell_type": "code",
   "execution_count": 16,
   "metadata": {},
   "outputs": [],
   "source": [
    "class car1():\n",
    "    def __init__(self, window,door,enginetype):\n",
    "        self.window=window\n",
    "        self.door=door\n",
    "        self.enginetype=enginetype\n",
    "    def __str__(self):\n",
    "        return \"This is overriding of magic method\"\n",
    "    def __sizeof__(self):\n",
    "        return \"This is overriding of sizeof\"\n",
    "    def drive(self):\n",
    "        print(\"The person drives this car\")"
   ]
  },
  {
   "cell_type": "code",
   "execution_count": 17,
   "metadata": {},
   "outputs": [],
   "source": [
    "c1=car1(4,5,\"Diesel\")"
   ]
  },
  {
   "cell_type": "code",
   "execution_count": 19,
   "metadata": {},
   "outputs": [
    {
     "data": {
      "text/plain": [
       "'This is overriding of sizeof'"
      ]
     },
     "execution_count": 19,
     "metadata": {},
     "output_type": "execute_result"
    }
   ],
   "source": [
    "c1.__sizeof__()"
   ]
  },
  {
   "cell_type": "code",
   "execution_count": 20,
   "metadata": {},
   "outputs": [],
   "source": [
    "# always whenever a object get initilized before __init__, __new__ magic function is called.\n",
    "\n",
    "class car1():\n",
    "    def __new__(self):\n",
    "        print(\"The object get initilized\")\n",
    "    def __init__(self, window,door,enginetype):\n",
    "        self.window=window\n",
    "        self.door=door\n",
    "        self.enginetype=enginetype\n",
    "    def __str__(self):\n",
    "        return \"This is overriding of magic method\"\n",
    "    def __sizeof__(self):\n",
    "        return \"This is overriding of sizeof\"\n",
    "    def drive(self):\n",
    "        print(\"The person drives this car\")"
   ]
  },
  {
   "cell_type": "code",
   "execution_count": 22,
   "metadata": {},
   "outputs": [
    {
     "name": "stdout",
     "output_type": "stream",
     "text": [
      "The object get initilized\n"
     ]
    }
   ],
   "source": [
    "c1=car1()"
   ]
  }
 ],
 "metadata": {
  "kernelspec": {
   "display_name": "Python 3",
   "language": "python",
   "name": "python3"
  },
  "language_info": {
   "codemirror_mode": {
    "name": "ipython",
    "version": 3
   },
   "file_extension": ".py",
   "mimetype": "text/x-python",
   "name": "python",
   "nbconvert_exporter": "python",
   "pygments_lexer": "ipython3",
   "version": "3.8.5"
  }
 },
 "nbformat": 4,
 "nbformat_minor": 4
}
