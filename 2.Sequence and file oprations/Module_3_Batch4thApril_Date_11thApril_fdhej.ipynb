{
 "cells": [
  {
   "cell_type": "markdown",
   "metadata": {},
   "source": [
    "## Functions"
   ]
  },
  {
   "cell_type": "code",
   "execution_count": 2,
   "metadata": {
    "scrolled": true
   },
   "outputs": [
    {
     "name": "stdout",
     "output_type": "stream",
     "text": [
      "None\n"
     ]
    }
   ],
   "source": [
    "# function definition\n",
    "def add(a,b):\n",
    "    c = a + b\n",
    "\n",
    "# calling\n",
    "out = add(1,2)\n",
    "print(out)"
   ]
  },
  {
   "cell_type": "code",
   "execution_count": 4,
   "metadata": {},
   "outputs": [
    {
     "name": "stdout",
     "output_type": "stream",
     "text": [
      "3\n"
     ]
    }
   ],
   "source": [
    "# using return statement to return a value\n",
    "def add(a,b):\n",
    "    c = a + b\n",
    "    return c\n",
    "# calling\n",
    "out = add(1,2)\n",
    "print(out)"
   ]
  },
  {
   "cell_type": "markdown",
   "metadata": {},
   "source": [
    "## Built-in functions"
   ]
  },
  {
   "cell_type": "code",
   "execution_count": 5,
   "metadata": {},
   "outputs": [
    {
     "data": {
      "text/plain": [
       "[-200, -1, 1, 2, 2, 34, 100]"
      ]
     },
     "execution_count": 5,
     "metadata": {},
     "output_type": "execute_result"
    }
   ],
   "source": [
    "#1.sorted(): returns a new sorted list\n",
    "a = [1, 2, -1, 100, -200, 34, 2]\n",
    "\n",
    "sorted(a)"
   ]
  },
  {
   "cell_type": "code",
   "execution_count": 6,
   "metadata": {},
   "outputs": [
    {
     "data": {
      "text/plain": [
       "[100, 34, 2, 2, 1, -1, -200]"
      ]
     },
     "execution_count": 6,
     "metadata": {},
     "output_type": "execute_result"
    }
   ],
   "source": [
    "sorted(a, reverse=True) # descending order"
   ]
  },
  {
   "cell_type": "markdown",
   "metadata": {},
   "source": [
    "## what is True and False ???\n",
    "    \n"
   ]
  },
  {
   "cell_type": "code",
   "execution_count": 7,
   "metadata": {},
   "outputs": [
    {
     "name": "stdout",
     "output_type": "stream",
     "text": [
      "if\n"
     ]
    }
   ],
   "source": [
    "if -1:\n",
    "    print(\"if\")\n",
    "else:\n",
    "    print(\"Else\")"
   ]
  },
  {
   "cell_type": "markdown",
   "metadata": {},
   "source": [
    "True: any non zero value is True ex: -1, 100, \"hello\", True, [1,2] etc\n",
    "\n",
    "False: None, 0, False, (), {}, [], '' or any empty value\n"
   ]
  },
  {
   "cell_type": "code",
   "execution_count": 8,
   "metadata": {},
   "outputs": [
    {
     "name": "stdout",
     "output_type": "stream",
     "text": [
      "else\n"
     ]
    }
   ],
   "source": [
    "if '':\n",
    "    print(\"if\")\n",
    "else:\n",
    "    print(\"else\")"
   ]
  },
  {
   "cell_type": "code",
   "execution_count": 9,
   "metadata": {},
   "outputs": [
    {
     "name": "stdout",
     "output_type": "stream",
     "text": [
      "if\n"
     ]
    }
   ],
   "source": [
    "if 'hello':\n",
    "    print(\"if\")\n",
    "else:\n",
    "    print(\"else\")"
   ]
  },
  {
   "cell_type": "code",
   "execution_count": 10,
   "metadata": {},
   "outputs": [
    {
     "data": {
      "text/plain": [
       "True"
      ]
     },
     "execution_count": 10,
     "metadata": {},
     "output_type": "execute_result"
    }
   ],
   "source": [
    "# 2. all(sequence): returns True when all items are True else returns False\n",
    "a = [1, \"hello\", -1, (2,3)]\n",
    "all(a)"
   ]
  },
  {
   "cell_type": "code",
   "execution_count": 11,
   "metadata": {},
   "outputs": [
    {
     "data": {
      "text/plain": [
       "False"
      ]
     },
     "execution_count": 11,
     "metadata": {},
     "output_type": "execute_result"
    }
   ],
   "source": [
    "a = [None, \"hello\", -1, (2,3)]\n",
    "all(a)"
   ]
  },
  {
   "cell_type": "code",
   "execution_count": 12,
   "metadata": {},
   "outputs": [
    {
     "data": {
      "text/plain": [
       "False"
      ]
     },
     "execution_count": 12,
     "metadata": {},
     "output_type": "execute_result"
    }
   ],
   "source": [
    "# 3. any(sequence): returns True if any of the element in the sequence is True\n",
    "a = ['', None, 0, False]\n",
    "any(a)"
   ]
  },
  {
   "cell_type": "code",
   "execution_count": 14,
   "metadata": {},
   "outputs": [
    {
     "data": {
      "text/plain": [
       "True"
      ]
     },
     "execution_count": 14,
     "metadata": {},
     "output_type": "execute_result"
    }
   ],
   "source": [
    "a = ['hello', None, 0, False]\n",
    "any(a)"
   ]
  },
  {
   "cell_type": "code",
   "execution_count": 15,
   "metadata": {},
   "outputs": [
    {
     "data": {
      "text/plain": [
       "False"
      ]
     },
     "execution_count": 15,
     "metadata": {},
     "output_type": "execute_result"
    }
   ],
   "source": [
    "#4. bool(object): converts value to boolean\n",
    "bool(None)"
   ]
  },
  {
   "cell_type": "code",
   "execution_count": 16,
   "metadata": {},
   "outputs": [
    {
     "data": {
      "text/plain": [
       "False"
      ]
     },
     "execution_count": 16,
     "metadata": {},
     "output_type": "execute_result"
    }
   ],
   "source": [
    "bool(0)"
   ]
  },
  {
   "cell_type": "code",
   "execution_count": 17,
   "metadata": {},
   "outputs": [
    {
     "data": {
      "text/plain": [
       "False"
      ]
     },
     "execution_count": 17,
     "metadata": {},
     "output_type": "execute_result"
    }
   ],
   "source": [
    "bool('')"
   ]
  },
  {
   "cell_type": "code",
   "execution_count": 18,
   "metadata": {},
   "outputs": [
    {
     "data": {
      "text/plain": [
       "True"
      ]
     },
     "execution_count": 18,
     "metadata": {},
     "output_type": "execute_result"
    }
   ],
   "source": [
    "bool(\"hello\")"
   ]
  },
  {
   "cell_type": "code",
   "execution_count": 19,
   "metadata": {},
   "outputs": [
    {
     "data": {
      "text/plain": [
       "True"
      ]
     },
     "execution_count": 19,
     "metadata": {},
     "output_type": "execute_result"
    }
   ],
   "source": [
    "bool([1, 2])"
   ]
  },
  {
   "cell_type": "code",
   "execution_count": 21,
   "metadata": {},
   "outputs": [
    {
     "data": {
      "text/plain": [
       "'a'"
      ]
     },
     "execution_count": 21,
     "metadata": {},
     "output_type": "execute_result"
    }
   ],
   "source": [
    "#5. chr(code_point): returns string represented by passed code point\n",
    "chr(97)"
   ]
  },
  {
   "cell_type": "code",
   "execution_count": 22,
   "metadata": {},
   "outputs": [
    {
     "data": {
      "text/plain": [
       "'A'"
      ]
     },
     "execution_count": 22,
     "metadata": {},
     "output_type": "execute_result"
    }
   ],
   "source": [
    "chr(65)"
   ]
  },
  {
   "cell_type": "code",
   "execution_count": 23,
   "metadata": {},
   "outputs": [
    {
     "data": {
      "text/plain": [
       "100"
      ]
     },
     "execution_count": 23,
     "metadata": {},
     "output_type": "execute_result"
    }
   ],
   "source": [
    "#6. abs(): returns the absolute value i.e ignoring the sign\n",
    "abs(-100)"
   ]
  },
  {
   "cell_type": "code",
   "execution_count": 24,
   "metadata": {},
   "outputs": [
    {
     "data": {
      "text/plain": [
       "200"
      ]
     },
     "execution_count": 24,
     "metadata": {},
     "output_type": "execute_result"
    }
   ],
   "source": [
    "abs(-200)"
   ]
  },
  {
   "cell_type": "code",
   "execution_count": 26,
   "metadata": {},
   "outputs": [
    {
     "name": "stdout",
     "output_type": "stream",
     "text": [
      "<class 'str'>\n",
      "<class 'int'>\n"
     ]
    }
   ],
   "source": [
    "#7. int(number_in_string) : returns an integer stored in a string\n",
    "val = \"200\"\n",
    "print(type(val))\n",
    "new_value = int(\"200\")\n",
    "print(type(new_value))"
   ]
  },
  {
   "cell_type": "code",
   "execution_count": 27,
   "metadata": {},
   "outputs": [
    {
     "ename": "TypeError",
     "evalue": "int() argument must be a string, a bytes-like object or a number, not 'list'",
     "output_type": "error",
     "traceback": [
      "\u001b[0;31m---------------------------------------------------------------------------\u001b[0m",
      "\u001b[0;31mTypeError\u001b[0m                                 Traceback (most recent call last)",
      "\u001b[0;32m<ipython-input-27-b0932f661ffe>\u001b[0m in \u001b[0;36m<module>\u001b[0;34m()\u001b[0m\n\u001b[0;32m----> 1\u001b[0;31m \u001b[0mint\u001b[0m\u001b[0;34m(\u001b[0m\u001b[0;34m[\u001b[0m\u001b[0;36m1\u001b[0m\u001b[0;34m,\u001b[0m\u001b[0;36m2\u001b[0m\u001b[0;34m]\u001b[0m\u001b[0;34m)\u001b[0m\u001b[0;34m\u001b[0m\u001b[0m\n\u001b[0m",
      "\u001b[0;31mTypeError\u001b[0m: int() argument must be a string, a bytes-like object or a number, not 'list'"
     ]
    }
   ],
   "source": [
    "int([1,2]) # input has to be number in a string"
   ]
  },
  {
   "cell_type": "code",
   "execution_count": 28,
   "metadata": {},
   "outputs": [
    {
     "data": {
      "text/plain": [
       "3"
      ]
     },
     "execution_count": 28,
     "metadata": {},
     "output_type": "execute_result"
    }
   ],
   "source": [
    "#8. len(sequence): returns number of elements in a sequence\n",
    "len([1, 2, 3])"
   ]
  },
  {
   "cell_type": "code",
   "execution_count": 29,
   "metadata": {},
   "outputs": [
    {
     "data": {
      "text/plain": [
       "{'__name__': '__main__',\n",
       " '__doc__': 'Automatically created module for IPython interactive environment',\n",
       " '__package__': None,\n",
       " '__loader__': None,\n",
       " '__spec__': None,\n",
       " '__builtin__': <module 'builtins' (built-in)>,\n",
       " '__builtins__': <module 'builtins' (built-in)>,\n",
       " '_ih': ['',\n",
       "  '# function definition\\ndef add(a,b):\\n    c = a + b\\n\\n# calling\\nout = func(1,2)\\nprint(out)',\n",
       "  '# function definition\\ndef add(a,b):\\n    c = a + b\\n\\n# calling\\nout = add(1,2)\\nprint(out)',\n",
       "  '# function definition\\ndef add(a,b):\\n    c = a + b\\n    return c\\n# calling\\nout = add(1,2)\\nprint(out)',\n",
       "  '# using return statement to return a value\\ndef add(a,b):\\n    c = a + b\\n    return c\\n# calling\\nout = add(1,2)\\nprint(out)',\n",
       "  '#1.sorted(): returns a new sorted list\\na = [1, 2, -1, 100, -200, 34, 2]\\n\\nsorted(a)',\n",
       "  'sorted(a, reverse=True)',\n",
       "  'if -1:\\n    print(\"if\")\\nelse:\\n    print(\"Else\")',\n",
       "  'if \\'\\':\\n    print(\"if\")\\nelse:\\n    print(\"else\")',\n",
       "  'if \\'hello\\':\\n    print(\"if\")\\nelse:\\n    print(\"else\")',\n",
       "  '# 2. all(): returns True when all items are True else returns False\\na = [1, \"hello\", -1, (2,3)]\\nall(a)',\n",
       "  'a = [None, \"hello\", -1, (2,3)]\\nall(a)',\n",
       "  \"# 3. any(sequence): returns True if any of the element in the seqquence is True\\na = ['', None, 0, False]\\nany(a)\",\n",
       "  \"a = ['hello', None, 0, False]\\nany(a\",\n",
       "  \"a = ['hello', None, 0, False]\\nany(a)\",\n",
       "  '#4. bool(object): converts value to boolean\\nbool(None)',\n",
       "  'bool(0)',\n",
       "  \"bool('')\",\n",
       "  'bool(\"hello\")',\n",
       "  'bool([1, 2])',\n",
       "  '#5. chr(code_point): returns string represented by passed code point\\nchar(97)',\n",
       "  '#5. chr(code_point): returns string represented by passed code point\\nchr(97)',\n",
       "  'chr(65)',\n",
       "  '#6. abs(): returns the absolute value i.e ignoring the sign\\nabs(-100)',\n",
       "  'abs(-200)',\n",
       "  '#7. int(number_in_string) : returns an integer stored in a string\\nint(\"200\")',\n",
       "  '#7. int(number_in_string) : returns an integer stored in a string\\nval = \"200\"\\nprint(type(val))\\nnew_value = int(\"200\")\\nprint(type(new_value))',\n",
       "  'int([1,2])',\n",
       "  '#8. len(sequence): returns number of elements in a sequence\\nlen([1, 2, 3])',\n",
       "  '#9. globals() : returns a dict showing current global state\\nglobals()'],\n",
       " '_oh': {5: [-200, -1, 1, 2, 2, 34, 100],\n",
       "  6: [100, 34, 2, 2, 1, -1, -200],\n",
       "  10: True,\n",
       "  11: False,\n",
       "  12: False,\n",
       "  14: True,\n",
       "  15: False,\n",
       "  16: False,\n",
       "  17: False,\n",
       "  18: True,\n",
       "  19: True,\n",
       "  21: 'a',\n",
       "  22: 'A',\n",
       "  23: 100,\n",
       "  24: 200,\n",
       "  25: 200,\n",
       "  28: 3},\n",
       " '_dh': ['/Users/gyanendra/Desktop/PyDataScience_venv/Module3'],\n",
       " 'In': ['',\n",
       "  '# function definition\\ndef add(a,b):\\n    c = a + b\\n\\n# calling\\nout = func(1,2)\\nprint(out)',\n",
       "  '# function definition\\ndef add(a,b):\\n    c = a + b\\n\\n# calling\\nout = add(1,2)\\nprint(out)',\n",
       "  '# function definition\\ndef add(a,b):\\n    c = a + b\\n    return c\\n# calling\\nout = add(1,2)\\nprint(out)',\n",
       "  '# using return statement to return a value\\ndef add(a,b):\\n    c = a + b\\n    return c\\n# calling\\nout = add(1,2)\\nprint(out)',\n",
       "  '#1.sorted(): returns a new sorted list\\na = [1, 2, -1, 100, -200, 34, 2]\\n\\nsorted(a)',\n",
       "  'sorted(a, reverse=True)',\n",
       "  'if -1:\\n    print(\"if\")\\nelse:\\n    print(\"Else\")',\n",
       "  'if \\'\\':\\n    print(\"if\")\\nelse:\\n    print(\"else\")',\n",
       "  'if \\'hello\\':\\n    print(\"if\")\\nelse:\\n    print(\"else\")',\n",
       "  '# 2. all(): returns True when all items are True else returns False\\na = [1, \"hello\", -1, (2,3)]\\nall(a)',\n",
       "  'a = [None, \"hello\", -1, (2,3)]\\nall(a)',\n",
       "  \"# 3. any(sequence): returns True if any of the element in the seqquence is True\\na = ['', None, 0, False]\\nany(a)\",\n",
       "  \"a = ['hello', None, 0, False]\\nany(a\",\n",
       "  \"a = ['hello', None, 0, False]\\nany(a)\",\n",
       "  '#4. bool(object): converts value to boolean\\nbool(None)',\n",
       "  'bool(0)',\n",
       "  \"bool('')\",\n",
       "  'bool(\"hello\")',\n",
       "  'bool([1, 2])',\n",
       "  '#5. chr(code_point): returns string represented by passed code point\\nchar(97)',\n",
       "  '#5. chr(code_point): returns string represented by passed code point\\nchr(97)',\n",
       "  'chr(65)',\n",
       "  '#6. abs(): returns the absolute value i.e ignoring the sign\\nabs(-100)',\n",
       "  'abs(-200)',\n",
       "  '#7. int(number_in_string) : returns an integer stored in a string\\nint(\"200\")',\n",
       "  '#7. int(number_in_string) : returns an integer stored in a string\\nval = \"200\"\\nprint(type(val))\\nnew_value = int(\"200\")\\nprint(type(new_value))',\n",
       "  'int([1,2])',\n",
       "  '#8. len(sequence): returns number of elements in a sequence\\nlen([1, 2, 3])',\n",
       "  '#9. globals() : returns a dict showing current global state\\nglobals()'],\n",
       " 'Out': {5: [-200, -1, 1, 2, 2, 34, 100],\n",
       "  6: [100, 34, 2, 2, 1, -1, -200],\n",
       "  10: True,\n",
       "  11: False,\n",
       "  12: False,\n",
       "  14: True,\n",
       "  15: False,\n",
       "  16: False,\n",
       "  17: False,\n",
       "  18: True,\n",
       "  19: True,\n",
       "  21: 'a',\n",
       "  22: 'A',\n",
       "  23: 100,\n",
       "  24: 200,\n",
       "  25: 200,\n",
       "  28: 3},\n",
       " 'get_ipython': <bound method InteractiveShell.get_ipython of <ipykernel.zmqshell.ZMQInteractiveShell object at 0x1045209b0>>,\n",
       " 'exit': <IPython.core.autocall.ZMQExitAutocall at 0x10456d908>,\n",
       " 'quit': <IPython.core.autocall.ZMQExitAutocall at 0x10456d908>,\n",
       " '_': 3,\n",
       " '__': 200,\n",
       " '___': 200,\n",
       " '_i': '#8. len(sequence): returns number of elements in a sequence\\nlen([1, 2, 3])',\n",
       " '_ii': 'int([1,2])',\n",
       " '_iii': '#7. int(number_in_string) : returns an integer stored in a string\\nval = \"200\"\\nprint(type(val))\\nnew_value = int(\"200\")\\nprint(type(new_value))',\n",
       " '_i1': '# function definition\\ndef add(a,b):\\n    c = a + b\\n\\n# calling\\nout = func(1,2)\\nprint(out)',\n",
       " 'add': <function __main__.add(a, b)>,\n",
       " '_i2': '# function definition\\ndef add(a,b):\\n    c = a + b\\n\\n# calling\\nout = add(1,2)\\nprint(out)',\n",
       " 'out': 3,\n",
       " '_i3': '# function definition\\ndef add(a,b):\\n    c = a + b\\n    return c\\n# calling\\nout = add(1,2)\\nprint(out)',\n",
       " '_i4': '# using return statement to return a value\\ndef add(a,b):\\n    c = a + b\\n    return c\\n# calling\\nout = add(1,2)\\nprint(out)',\n",
       " '_i5': '#1.sorted(): returns a new sorted list\\na = [1, 2, -1, 100, -200, 34, 2]\\n\\nsorted(a)',\n",
       " 'a': ['hello', None, 0, False],\n",
       " '_5': [-200, -1, 1, 2, 2, 34, 100],\n",
       " '_i6': 'sorted(a, reverse=True)',\n",
       " '_6': [100, 34, 2, 2, 1, -1, -200],\n",
       " '_i7': 'if -1:\\n    print(\"if\")\\nelse:\\n    print(\"Else\")',\n",
       " '_i8': 'if \\'\\':\\n    print(\"if\")\\nelse:\\n    print(\"else\")',\n",
       " '_i9': 'if \\'hello\\':\\n    print(\"if\")\\nelse:\\n    print(\"else\")',\n",
       " '_i10': '# 2. all(): returns True when all items are True else returns False\\na = [1, \"hello\", -1, (2,3)]\\nall(a)',\n",
       " '_10': True,\n",
       " '_i11': 'a = [None, \"hello\", -1, (2,3)]\\nall(a)',\n",
       " '_11': False,\n",
       " '_i12': \"# 3. any(sequence): returns True if any of the element in the seqquence is True\\na = ['', None, 0, False]\\nany(a)\",\n",
       " '_12': False,\n",
       " '_i13': \"a = ['hello', None, 0, False]\\nany(a\",\n",
       " '_i14': \"a = ['hello', None, 0, False]\\nany(a)\",\n",
       " '_14': True,\n",
       " '_i15': '#4. bool(object): converts value to boolean\\nbool(None)',\n",
       " '_15': False,\n",
       " '_i16': 'bool(0)',\n",
       " '_16': False,\n",
       " '_i17': \"bool('')\",\n",
       " '_17': False,\n",
       " '_i18': 'bool(\"hello\")',\n",
       " '_18': True,\n",
       " '_i19': 'bool([1, 2])',\n",
       " '_19': True,\n",
       " '_i20': '#5. chr(code_point): returns string represented by passed code point\\nchar(97)',\n",
       " '_i21': '#5. chr(code_point): returns string represented by passed code point\\nchr(97)',\n",
       " '_21': 'a',\n",
       " '_i22': 'chr(65)',\n",
       " '_22': 'A',\n",
       " '_i23': '#6. abs(): returns the absolute value i.e ignoring the sign\\nabs(-100)',\n",
       " '_23': 100,\n",
       " '_i24': 'abs(-200)',\n",
       " '_24': 200,\n",
       " '_i25': '#7. int(number_in_string) : returns an integer stored in a string\\nint(\"200\")',\n",
       " '_25': 200,\n",
       " '_i26': '#7. int(number_in_string) : returns an integer stored in a string\\nval = \"200\"\\nprint(type(val))\\nnew_value = int(\"200\")\\nprint(type(new_value))',\n",
       " 'val': '200',\n",
       " 'new_value': 200,\n",
       " '_i27': 'int([1,2])',\n",
       " '_i28': '#8. len(sequence): returns number of elements in a sequence\\nlen([1, 2, 3])',\n",
       " '_28': 3,\n",
       " '_i29': '#9. globals() : returns a dict showing current global state\\nglobals()'}"
      ]
     },
     "execution_count": 29,
     "metadata": {},
     "output_type": "execute_result"
    }
   ],
   "source": [
    "#9. globals() : returns a dict showing current global state\n",
    "globals()"
   ]
  },
  {
   "cell_type": "code",
   "execution_count": 30,
   "metadata": {},
   "outputs": [
    {
     "data": {
      "text/plain": [
       "'0b1010'"
      ]
     },
     "execution_count": 30,
     "metadata": {},
     "output_type": "execute_result"
    }
   ],
   "source": [
    "# bin(): integer to binary\n",
    "bin(10)"
   ]
  },
  {
   "cell_type": "code",
   "execution_count": 31,
   "metadata": {},
   "outputs": [
    {
     "data": {
      "text/plain": [
       "False"
      ]
     },
     "execution_count": 31,
     "metadata": {},
     "output_type": "execute_result"
    }
   ],
   "source": [
    "# eval(): evaluates the expression given in the string\n",
    "\n",
    "eval(\"1>2\")"
   ]
  },
  {
   "cell_type": "code",
   "execution_count": 32,
   "metadata": {},
   "outputs": [
    {
     "data": {
      "text/plain": [
       "100"
      ]
     },
     "execution_count": 32,
     "metadata": {},
     "output_type": "execute_result"
    }
   ],
   "source": [
    "eval(\"100\")"
   ]
  },
  {
   "cell_type": "code",
   "execution_count": 33,
   "metadata": {},
   "outputs": [
    {
     "data": {
      "text/plain": [
       "10"
      ]
     },
     "execution_count": 33,
     "metadata": {},
     "output_type": "execute_result"
    }
   ],
   "source": [
    "#sum(iterable): returns sum of all the elements\n",
    "sum([1, 2, 3, 4])"
   ]
  },
  {
   "cell_type": "code",
   "execution_count": 34,
   "metadata": {},
   "outputs": [
    {
     "data": {
      "text/plain": [
       "60"
      ]
     },
     "execution_count": 34,
     "metadata": {},
     "output_type": "execute_result"
    }
   ],
   "source": [
    "sum((10, 20, 30))"
   ]
  },
  {
   "cell_type": "code",
   "execution_count": 36,
   "metadata": {},
   "outputs": [
    {
     "data": {
      "text/plain": [
       "6"
      ]
     },
     "execution_count": 36,
     "metadata": {},
     "output_type": "execute_result"
    }
   ],
   "source": [
    "sum({1:11, 2:22, 3:33})  # only uses key"
   ]
  },
  {
   "cell_type": "code",
   "execution_count": 38,
   "metadata": {},
   "outputs": [
    {
     "name": "stdout",
     "output_type": "stream",
     "text": [
      "4\n",
      "3\n",
      "2\n",
      "1\n"
     ]
    }
   ],
   "source": [
    "#reversed() : reverses the sequence\n",
    "\n",
    "a = [1, 2, 3, 4]\n",
    "for elem in reversed(a):\n",
    "    print(elem)"
   ]
  },
  {
   "cell_type": "markdown",
   "metadata": {},
   "source": [
    "### enumerate()\n",
    "used to get the value and index together like (index, value)"
   ]
  },
  {
   "cell_type": "code",
   "execution_count": 39,
   "metadata": {},
   "outputs": [
    {
     "name": "stdout",
     "output_type": "stream",
     "text": [
      "11\n",
      "12\n",
      "13\n",
      "14\n"
     ]
    }
   ],
   "source": [
    "a = [11, 12, 13, 14]\n",
    "for elem in a:\n",
    "    print(elem)"
   ]
  },
  {
   "cell_type": "code",
   "execution_count": 40,
   "metadata": {},
   "outputs": [
    {
     "name": "stdout",
     "output_type": "stream",
     "text": [
      "(0, 11)\n",
      "(1, 12)\n",
      "(2, 13)\n",
      "(3, 14)\n"
     ]
    }
   ],
   "source": [
    "a = [11, 12, 13, 14]\n",
    "for elem in enumerate(a):\n",
    "    print(elem)"
   ]
  },
  {
   "cell_type": "code",
   "execution_count": 41,
   "metadata": {},
   "outputs": [
    {
     "name": "stdout",
     "output_type": "stream",
     "text": [
      "0\n",
      "1\n",
      "2\n",
      "3\n"
     ]
    }
   ],
   "source": [
    "a = [11, 12, 13, 14]\n",
    "for index, value in enumerate(a):\n",
    "    print(index)"
   ]
  },
  {
   "cell_type": "markdown",
   "metadata": {},
   "source": [
    "### Lambda functions"
   ]
  },
  {
   "cell_type": "code",
   "execution_count": 42,
   "metadata": {},
   "outputs": [
    {
     "data": {
      "text/plain": [
       "30"
      ]
     },
     "execution_count": 42,
     "metadata": {},
     "output_type": "execute_result"
    }
   ],
   "source": [
    "# Normal function created using 'def' keyword\n",
    "def add(a,b):\n",
    "    return a+b\n",
    "add(10,20)"
   ]
  },
  {
   "cell_type": "code",
   "execution_count": 43,
   "metadata": {},
   "outputs": [
    {
     "data": {
      "text/plain": [
       "30"
      ]
     },
     "execution_count": 43,
     "metadata": {},
     "output_type": "execute_result"
    }
   ],
   "source": [
    "# same function using lambda\n",
    "(lambda a,b:a+b)(10,20)"
   ]
  },
  {
   "cell_type": "markdown",
   "metadata": {},
   "source": [
    "### applications of lambda function"
   ]
  },
  {
   "cell_type": "code",
   "execution_count": 44,
   "metadata": {},
   "outputs": [
    {
     "data": {
      "text/plain": [
       "<map at 0x104708f60>"
      ]
     },
     "execution_count": 44,
     "metadata": {},
     "output_type": "execute_result"
    }
   ],
   "source": [
    "#1. map(function_obj, seq1[,seq2, seq3... ])\n",
    "\n",
    "a = [1, 2, 3, 4]\n",
    "# expected output [1, 4, 9, 16]\n",
    "map(lambda elem:elem**2, a)"
   ]
  },
  {
   "cell_type": "code",
   "execution_count": 45,
   "metadata": {},
   "outputs": [
    {
     "data": {
      "text/plain": [
       "[1, 4, 9, 16]"
      ]
     },
     "execution_count": 45,
     "metadata": {},
     "output_type": "execute_result"
    }
   ],
   "source": [
    "a = [1, 2, 3, 4]\n",
    "# expected output [1, 4, 9, 16]\n",
    "list(map(lambda elem:elem**2, a))"
   ]
  },
  {
   "cell_type": "code",
   "execution_count": 46,
   "metadata": {},
   "outputs": [],
   "source": [
    "# map((lambda elem:elem**2)(1),\n",
    "#     (lambda elem:elem**2)(2),\n",
    "#     (lambda elem:elem**2(3),\n",
    "#     (lambda elem:elem**2(4)))"
   ]
  },
  {
   "cell_type": "code",
   "execution_count": 47,
   "metadata": {},
   "outputs": [
    {
     "data": {
      "text/plain": [
       "<filter at 0x104709550>"
      ]
     },
     "execution_count": 47,
     "metadata": {},
     "output_type": "execute_result"
    }
   ],
   "source": [
    "#2. filter(func_obj, sequence)\n",
    "a = [1, 2, 3, 4, 5, 6]\n",
    "# assume I want to filter above mentioned list and I want only values > 3\n",
    "filter(lambda elem: elem > 3, a)"
   ]
  },
  {
   "cell_type": "code",
   "execution_count": 48,
   "metadata": {},
   "outputs": [
    {
     "data": {
      "text/plain": [
       "[4, 5, 6]"
      ]
     },
     "execution_count": 48,
     "metadata": {},
     "output_type": "execute_result"
    }
   ],
   "source": [
    "a = [1, 2, 3, 4, 5, 6]\n",
    "list(filter(lambda elem: elem > 3, a))"
   ]
  },
  {
   "cell_type": "code",
   "execution_count": 49,
   "metadata": {},
   "outputs": [
    {
     "data": {
      "text/plain": [
       "[1, 4, 9]"
      ]
     },
     "execution_count": 49,
     "metadata": {},
     "output_type": "execute_result"
    }
   ],
   "source": [
    "# map without lambda function\n",
    "a = [1, 2, 3]\n",
    "# expected [1, 4, 9]\n",
    "def square(val):\n",
    "    return val**2\n",
    "list(map(square,a))"
   ]
  },
  {
   "cell_type": "code",
   "execution_count": 51,
   "metadata": {},
   "outputs": [
    {
     "name": "stdout",
     "output_type": "stream",
     "text": [
      "4\n",
      "9\n"
     ]
    }
   ],
   "source": [
    "# we can store a lambda function\n",
    "my_func = lambda elem:elem**2\n",
    "print(my_func(2))\n",
    "print(my_func(3))"
   ]
  },
  {
   "cell_type": "code",
   "execution_count": 52,
   "metadata": {},
   "outputs": [
    {
     "data": {
      "text/plain": [
       "[100, 400, 900]"
      ]
     },
     "execution_count": 52,
     "metadata": {},
     "output_type": "execute_result"
    }
   ],
   "source": [
    "# map using tuple\n",
    "list(map(lambda elem:elem**2, (10, 20, 30)))"
   ]
  },
  {
   "cell_type": "code",
   "execution_count": 53,
   "metadata": {},
   "outputs": [
    {
     "data": {
      "text/plain": [
       "[1, 4, 9]"
      ]
     },
     "execution_count": 53,
     "metadata": {},
     "output_type": "execute_result"
    }
   ],
   "source": [
    "# map using dict\n",
    "list(map(lambda elem:elem**2, {1:11, 2:22, 3:33}))"
   ]
  },
  {
   "cell_type": "code",
   "execution_count": 54,
   "metadata": {},
   "outputs": [
    {
     "data": {
      "text/plain": [
       "24"
      ]
     },
     "execution_count": 54,
     "metadata": {},
     "output_type": "execute_result"
    }
   ],
   "source": [
    "#3. reduce()\n",
    "from functools import reduce\n",
    "reduce(lambda x,y:x*y, [1, 2, 3, 4])"
   ]
  },
  {
   "cell_type": "code",
   "execution_count": 55,
   "metadata": {},
   "outputs": [
    {
     "data": {
      "text/plain": [
       "10"
      ]
     },
     "execution_count": 55,
     "metadata": {},
     "output_type": "execute_result"
    }
   ],
   "source": [
    "from functools import reduce\n",
    "reduce(lambda x,y:x+y, [1, 2, 3, 4])"
   ]
  },
  {
   "cell_type": "markdown",
   "metadata": {},
   "source": [
    "# Global variable\n",
    "- defined outside the function or class.\n",
    "- can be accessed anywhere in the file\n",
    "- to access a global variable we don't need the 'global'keyword\n",
    "- when we would like to modify a global variable inside a function then we must put this code \"global <var_name>\" otherwise updation of global var wouldn't work within the function"
   ]
  },
  {
   "cell_type": "code",
   "execution_count": 58,
   "metadata": {},
   "outputs": [
    {
     "name": "stdout",
     "output_type": "stream",
     "text": [
      "100\n",
      "3\n"
     ]
    }
   ],
   "source": [
    "a = 100 # this is a global variable\n",
    "def func(i,j):\n",
    "    print(a)  # accessing a global variable\n",
    "    print(i+j)\n",
    "\n",
    "func(1,2)"
   ]
  },
  {
   "cell_type": "code",
   "execution_count": 62,
   "metadata": {},
   "outputs": [
    {
     "name": "stdout",
     "output_type": "stream",
     "text": [
      "200\n",
      "Inside: 4331826752\n",
      "3\n",
      "Outside: 4331823552\n",
      "100\n"
     ]
    }
   ],
   "source": [
    "# Wrong way: modifying a global variable : without using 'global' keyword it won'w work\n",
    "# that creates a local var within a function with same name as global var\n",
    "a = 100 # this is a global variable\n",
    "def func(i,j):\n",
    "    a = 200  # I am thinking that I am modifying  global var . which is not happening\n",
    "    print(a)  # this is a local var\n",
    "    print(\"Inside:\", id(a))\n",
    "    print(i+j)\n",
    "\n",
    "func(1,2)\n",
    "print(\"Outside:\", id(a))\n",
    "print(a)  # 2nd print statement"
   ]
  },
  {
   "cell_type": "code",
   "execution_count": 64,
   "metadata": {},
   "outputs": [
    {
     "name": "stdout",
     "output_type": "stream",
     "text": [
      "200\n",
      "Inside: 4331826752\n",
      "3\n",
      "Outside: 4331826752\n",
      "200\n"
     ]
    }
   ],
   "source": [
    "# Right way:modifying a global variable : without using 'global' keyword it won'w work\n",
    "# that creates a local var within a function with same name as global var\n",
    "a = 100 # this is a global variable\n",
    "def func(i,j):\n",
    "    global a # this line would allow you to modify a global var inside a function\n",
    "    a = 200 \n",
    "    print(a)\n",
    "    print(\"Inside:\", id(a))\n",
    "    print(i+j)\n",
    "\n",
    "func(1,2)\n",
    "print(\"Outside:\", id(a))\n",
    "print(a)  # 2nd print statement"
   ]
  },
  {
   "cell_type": "markdown",
   "metadata": {},
   "source": [
    "### Function Parameters"
   ]
  },
  {
   "cell_type": "code",
   "execution_count": 3,
   "metadata": {},
   "outputs": [
    {
     "name": "stdout",
     "output_type": "stream",
     "text": [
      "3\n"
     ]
    }
   ],
   "source": [
    "## required params/mandatory/positional args\n",
    "def func(a,b):\n",
    "    print(a+b)\n",
    "\n",
    "func(1,2)"
   ]
  },
  {
   "cell_type": "code",
   "execution_count": 4,
   "metadata": {},
   "outputs": [
    {
     "ename": "TypeError",
     "evalue": "func() missing 1 required positional argument: 'b'",
     "output_type": "error",
     "traceback": [
      "\u001b[0;31m---------------------------------------------------------------------------\u001b[0m",
      "\u001b[0;31mTypeError\u001b[0m                                 Traceback (most recent call last)",
      "\u001b[0;32m<ipython-input-4-9ed089a72395>\u001b[0m in \u001b[0;36m<module>\u001b[0;34m\u001b[0m\n\u001b[0;32m----> 1\u001b[0;31m \u001b[0mfunc\u001b[0m\u001b[0;34m(\u001b[0m\u001b[0;36m1\u001b[0m\u001b[0;34m)\u001b[0m\u001b[0;34m\u001b[0m\u001b[0;34m\u001b[0m\u001b[0m\n\u001b[0m",
      "\u001b[0;31mTypeError\u001b[0m: func() missing 1 required positional argument: 'b'"
     ]
    }
   ],
   "source": [
    "func(1)"
   ]
  },
  {
   "cell_type": "markdown",
   "metadata": {},
   "source": [
    "#### keyword args"
   ]
  },
  {
   "cell_type": "code",
   "execution_count": 5,
   "metadata": {},
   "outputs": [
    {
     "name": "stdout",
     "output_type": "stream",
     "text": [
      "10\n"
     ]
    }
   ],
   "source": [
    "def add(a,b,c,d):\n",
    "    print(a+b+c+d)\n",
    "\n",
    "#add(1,2,3,4)\n",
    "add(a=1,d=4,b=2,c=3)"
   ]
  },
  {
   "cell_type": "markdown",
   "metadata": {},
   "source": [
    "### default args"
   ]
  },
  {
   "cell_type": "code",
   "execution_count": 7,
   "metadata": {},
   "outputs": [
    {
     "name": "stdout",
     "output_type": "stream",
     "text": [
      "3\n"
     ]
    }
   ],
   "source": [
    "def add(a,b):\n",
    "    print(a+b)\n",
    "\n",
    "## client 1\n",
    "add(1,2)"
   ]
  },
  {
   "cell_type": "code",
   "execution_count": 12,
   "metadata": {},
   "outputs": [
    {
     "name": "stdout",
     "output_type": "stream",
     "text": [
      "3\n",
      "6\n"
     ]
    }
   ],
   "source": [
    "# c is default parameter with the default value 0.\n",
    "def add(a,b,c=0):\n",
    "    print(a+b+c)\n",
    " \n",
    "# client 1\n",
    "add(1,2)\n",
    "# client 2\n",
    "add(1,2,3)"
   ]
  },
  {
   "cell_type": "markdown",
   "metadata": {},
   "source": [
    "## variable length arguments\n",
    "## function to take any number or type of arguments"
   ]
  },
  {
   "cell_type": "code",
   "execution_count": 20,
   "metadata": {},
   "outputs": [],
   "source": [
    "def func(*args, **kwargs):\n",
    "    print(\"Positional args:\",args) # tuple\n",
    "    print(\"Keyword Args:\", kwargs)  # dictionary\n",
    "    sum = 0\n",
    "    for elem in args:\n",
    "        sum = sum + elem  # sum += elem\n",
    "    \n",
    "    for elem in kwargs.values():\n",
    "        sum = sum + elem\n",
    "    print(\"Final sum is:\",sum)\n",
    "        "
   ]
  },
  {
   "cell_type": "code",
   "execution_count": 21,
   "metadata": {},
   "outputs": [
    {
     "name": "stdout",
     "output_type": "stream",
     "text": [
      "Positional args: (1, 2)\n",
      "Keyword Args: {}\n",
      "Final sum is: 3\n"
     ]
    }
   ],
   "source": [
    "func(1,2)  # only positional"
   ]
  },
  {
   "cell_type": "code",
   "execution_count": 22,
   "metadata": {},
   "outputs": [
    {
     "name": "stdout",
     "output_type": "stream",
     "text": [
      "Positional args: (1, 2)\n",
      "Keyword Args: {'a': 11, 'b': 22}\n",
      "Final sum is: 36\n"
     ]
    }
   ],
   "source": [
    "func(1,2,a=11,b=22) # both"
   ]
  },
  {
   "cell_type": "code",
   "execution_count": 23,
   "metadata": {},
   "outputs": [
    {
     "name": "stdout",
     "output_type": "stream",
     "text": [
      "Positional args: ()\n",
      "Keyword Args: {'a': 11, 'b': 22}\n",
      "Final sum is: 33\n"
     ]
    }
   ],
   "source": [
    "# only keyword\n",
    "func(a=11, b=22)"
   ]
  },
  {
   "cell_type": "code",
   "execution_count": 26,
   "metadata": {},
   "outputs": [
    {
     "ename": "SyntaxError",
     "evalue": "positional argument follows keyword argument (<ipython-input-26-78c9a523d27a>, line 1)",
     "output_type": "error",
     "traceback": [
      "\u001b[0;36m  File \u001b[0;32m\"<ipython-input-26-78c9a523d27a>\"\u001b[0;36m, line \u001b[0;32m1\u001b[0m\n\u001b[0;31m    func(1,a=11,3,b=22)  # Invalid\u001b[0m\n\u001b[0m               ^\u001b[0m\n\u001b[0;31mSyntaxError\u001b[0m\u001b[0;31m:\u001b[0m positional argument follows keyword argument\n"
     ]
    }
   ],
   "source": [
    "\n",
    "func(1,a=11,3,b=22)  # Invalid\n",
    "# Rule: keyword arguments are passed at the end"
   ]
  }
 ],
 "metadata": {
  "kernelspec": {
   "display_name": "Python 3",
   "language": "python",
   "name": "python3"
  },
  "language_info": {
   "codemirror_mode": {
    "name": "ipython",
    "version": 3
   },
   "file_extension": ".py",
   "mimetype": "text/x-python",
   "name": "python",
   "nbconvert_exporter": "python",
   "pygments_lexer": "ipython3",
   "version": "3.7.4"
  }
 },
 "nbformat": 4,
 "nbformat_minor": 2
}
