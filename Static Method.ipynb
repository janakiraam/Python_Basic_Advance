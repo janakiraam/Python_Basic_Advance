{
 "cells": [
  {
   "cell_type": "code",
   "execution_count": 1,
   "metadata": {},
   "outputs": [
    {
     "data": {
      "text/plain": [
       "datetime.datetime(2021, 1, 21, 20, 53, 30, 247447)"
      ]
     },
     "execution_count": 1,
     "metadata": {},
     "output_type": "execute_result"
    }
   ],
   "source": [
    "import datetime\n",
    "now = datetime.datetime.now()\n",
    "now"
   ]
  },
  {
   "cell_type": "code",
   "execution_count": 2,
   "metadata": {},
   "outputs": [
    {
     "data": {
      "text/plain": [
       "2021"
      ]
     },
     "execution_count": 2,
     "metadata": {},
     "output_type": "execute_result"
    }
   ],
   "source": [
    "now.year"
   ]
  },
  {
   "cell_type": "code",
   "execution_count": 3,
   "metadata": {},
   "outputs": [],
   "source": [
    "class car:\n",
    "    base_price=10000000  ### class variable\n",
    "    def __init__(self,window,door,power):\n",
    "        self.window=window\n",
    "        self.door=door\n",
    "        self.power=power\n",
    "    def what_is_base_price(self):\n",
    "        print(\"the base price is {} \".format(self.base_price))\n",
    "    @classmethod\n",
    "    def reveised_base_price(cls,inflation):\n",
    "        car.base_price=car.base_price+car.base_price*inflation\n",
    "    @staticmethod\n",
    "    def check_year():\n",
    "        if now.year==2021:\n",
    "            return True\n",
    "        else:\n",
    "            return False"
   ]
  },
  {
   "cell_type": "code",
   "execution_count": 4,
   "metadata": {},
   "outputs": [],
   "source": [
    "## once the class is loaded the first thing get loaded is static method\n",
    "## for statuc methid no need of giving any parameter\n",
    "## static method is faster"
   ]
  },
  {
   "cell_type": "code",
   "execution_count": 6,
   "metadata": {},
   "outputs": [
    {
     "data": {
      "text/plain": [
       "True"
      ]
     },
     "execution_count": 6,
     "metadata": {},
     "output_type": "execute_result"
    }
   ],
   "source": [
    "car.check_year()"
   ]
  },
  {
   "cell_type": "code",
   "execution_count": 14,
   "metadata": {},
   "outputs": [],
   "source": [
    "class car:\n",
    "    base_price=10000000  ### class variable\n",
    "    def __init__(self,window,door,power):\n",
    "        self.window=window\n",
    "        self.door=door\n",
    "        self.power=power\n",
    "    def what_is_base_price(self):\n",
    "        print(\"the base price is {} \".format(self.base_price))\n",
    "    @classmethod\n",
    "    def reveised_base_price(cls,inflation):\n",
    "        car.base_price=car.base_price+car.base_price*inflation\n",
    "    def check_year():\n",
    "        if now.year==2021:\n",
    "            return True\n",
    "        else:\n",
    "            return False"
   ]
  },
  {
   "cell_type": "code",
   "execution_count": 15,
   "metadata": {},
   "outputs": [
    {
     "data": {
      "text/plain": [
       "True"
      ]
     },
     "execution_count": 15,
     "metadata": {},
     "output_type": "execute_result"
    }
   ],
   "source": [
    "car.check_year()"
   ]
  },
  {
   "cell_type": "code",
   "execution_count": 16,
   "metadata": {},
   "outputs": [],
   "source": [
    "car1=car(4,2,1000)\n"
   ]
  },
  {
   "cell_type": "code",
   "execution_count": 17,
   "metadata": {},
   "outputs": [
    {
     "ename": "TypeError",
     "evalue": "check_year() takes 0 positional arguments but 1 was given",
     "output_type": "error",
     "traceback": [
      "\u001b[1;31m---------------------------------------------------------------------------\u001b[0m",
      "\u001b[1;31mTypeError\u001b[0m                                 Traceback (most recent call last)",
      "\u001b[1;32m<ipython-input-17-538b79db3726>\u001b[0m in \u001b[0;36m<module>\u001b[1;34m\u001b[0m\n\u001b[1;32m----> 1\u001b[1;33m \u001b[0mcar1\u001b[0m\u001b[1;33m.\u001b[0m\u001b[0mcheck_year\u001b[0m\u001b[1;33m(\u001b[0m\u001b[1;33m)\u001b[0m\u001b[1;33m\u001b[0m\u001b[1;33m\u001b[0m\u001b[0m\n\u001b[0m",
      "\u001b[1;31mTypeError\u001b[0m: check_year() takes 0 positional arguments but 1 was given"
     ]
    }
   ],
   "source": [
    "car1.check_year()"
   ]
  },
  {
   "cell_type": "code",
   "execution_count": 19,
   "metadata": {},
   "outputs": [],
   "source": [
    "class car:\n",
    "    base_price=10000000  ### class variable\n",
    "    def __init__(self,window,door,power):\n",
    "        self.window=window\n",
    "        self.door=door\n",
    "        self.power=power\n",
    "    def what_is_base_price(self):\n",
    "        print(\"the base price is {} \".format(self.base_price))\n",
    "    @classmethod\n",
    "    def reveised_base_price(cls,inflation):\n",
    "        car.base_price=car.base_price+car.base_price*inflation\n",
    "    @staticmethod\n",
    "    def check_year():\n",
    "        if now.year==2021:\n",
    "            return True\n",
    "        else:\n",
    "            return False"
   ]
  },
  {
   "cell_type": "code",
   "execution_count": 20,
   "metadata": {},
   "outputs": [
    {
     "data": {
      "text/plain": [
       "True"
      ]
     },
     "execution_count": 20,
     "metadata": {},
     "output_type": "execute_result"
    }
   ],
   "source": [
    "car.check_year()"
   ]
  },
  {
   "cell_type": "code",
   "execution_count": 21,
   "metadata": {},
   "outputs": [],
   "source": [
    "car1=car(4,2,1000)"
   ]
  },
  {
   "cell_type": "code",
   "execution_count": 22,
   "metadata": {},
   "outputs": [
    {
     "data": {
      "text/plain": [
       "True"
      ]
     },
     "execution_count": 22,
     "metadata": {},
     "output_type": "execute_result"
    }
   ],
   "source": [
    "car1.check_year()  # if @staticmethod decorator is not give with object we can assess the method"
   ]
  },
  {
   "cell_type": "code",
   "execution_count": 23,
   "metadata": {},
   "outputs": [],
   "source": [
    "# if year is current year don't reveised base price if not revise base price\n",
    "if(car1.check_year()):\n",
    "    pass\n",
    "else:\n",
    "    car1.reveised_base_price(0.10)"
   ]
  },
  {
   "cell_type": "code",
   "execution_count": 25,
   "metadata": {},
   "outputs": [
    {
     "data": {
      "text/plain": [
       "10000000"
      ]
     },
     "execution_count": 25,
     "metadata": {},
     "output_type": "execute_result"
    }
   ],
   "source": [
    "car1.base_price"
   ]
  },
  {
   "cell_type": "code",
   "execution_count": null,
   "metadata": {},
   "outputs": [],
   "source": []
  },
  {
   "cell_type": "code",
   "execution_count": null,
   "metadata": {},
   "outputs": [],
   "source": []
  }
 ],
 "metadata": {
  "kernelspec": {
   "display_name": "Python 3",
   "language": "python",
   "name": "python3"
  },
  "language_info": {
   "codemirror_mode": {
    "name": "ipython",
    "version": 3
   },
   "file_extension": ".py",
   "mimetype": "text/x-python",
   "name": "python",
   "nbconvert_exporter": "python",
   "pygments_lexer": "ipython3",
   "version": "3.8.5"
  }
 },
 "nbformat": 4,
 "nbformat_minor": 4
}
